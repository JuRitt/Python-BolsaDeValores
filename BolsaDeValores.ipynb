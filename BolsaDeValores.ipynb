{
  "nbformat": 4,
  "nbformat_minor": 0,
  "metadata": {
    "colab": {
      "name": "BolsaDeValores.ipynb",
      "provenance": [],
      "authorship_tag": "ABX9TyNTzmGwHogHRmize5jIYO+1",
      "include_colab_link": true
    },
    "kernelspec": {
      "name": "python3",
      "display_name": "Python 3"
    }
  },
  "cells": [
    {
      "cell_type": "markdown",
      "metadata": {
        "id": "view-in-github",
        "colab_type": "text"
      },
      "source": [
        "<a href=\"https://colab.research.google.com/github/JuRitt/Python-BolsaDeValores/blob/main/BolsaDeValores.ipynb\" target=\"_parent\"><img src=\"https://colab.research.google.com/assets/colab-badge.svg\" alt=\"Open In Colab\"/></a>"
      ]
    },
    {
      "cell_type": "code",
      "metadata": {
        "id": "rUGra2Ac20FS"
      },
      "source": [
        "import pandas_datareader as pdr\r\n",
        "import datetime\r\n",
        "import numpy as np"
      ],
      "execution_count": 2,
      "outputs": []
    },
    {
      "cell_type": "code",
      "metadata": {
        "colab": {
          "base_uri": "https://localhost:8080/",
          "height": 230
        },
        "id": "j6RZPUC33LTx",
        "outputId": "02e4035b-ae42-4dd4-ac75-78c51857f071"
      },
      "source": [
        "vale3 = pdr.get_data_yahoo('VALE3.SA', start = datetime.datetime(2016,10,1), end = datetime.datetime(2019,1,1))\r\n",
        "#display(vale3.head())\r\n",
        "#display(vale3.tail())\r\n",
        "#display(vale3.describe())\r\n",
        "#print(vale3.index)\r\n",
        "#print(vale3.columns)\r\n",
        "#vale3['2018-01-01':].head(10)\r\n",
        "pct_c = (vale3.Close / vale3.Open).apply(lambda x: x-1)*100\r\n",
        "#display(pct_c.head(10))\r\n",
        "\r\n",
        "#Daily log returns\r\n",
        "daily_log_returns = np.log(vale3.Close.pct_change() + 1)\r\n"
      ],
      "execution_count": 14,
      "outputs": [
        {
          "output_type": "display_data",
          "data": {
            "text/plain": [
              "Date\n",
              "2016-10-03    1.400560\n",
              "2016-10-04   -3.021984\n",
              "2016-10-05   -0.111849\n",
              "2016-10-06   -0.224220\n",
              "2016-10-07    0.166949\n",
              "2016-10-10    4.440787\n",
              "2016-10-11   -1.483044\n",
              "2016-10-13   -2.739726\n",
              "2016-10-14   -0.441989\n",
              "2016-10-17    0.829185\n",
              "dtype: float64"
            ]
          },
          "metadata": {
            "tags": []
          }
        }
      ]
    },
    {
      "cell_type": "code",
      "metadata": {
        "id": "-ODSgZ9L4uNj"
      },
      "source": [
        "import plotly\r\n",
        "import plotly.offline as py\r\n",
        "import plotly.graph_objs as go\r\n",
        "import numpy as np\r\n",
        "\r\n",
        "py.init_notebook_mode(connected = True)\r\n",
        "\r\n",
        "def simple_config_plot(fig, title)\r\n",
        "  title = {'text': title,\r\n",
        "           'xanchor': 'center',\r\n",
        "           'yanchor': 'bottom',\r\n",
        "           'y':0, 'x':0.5,}"
      ],
      "execution_count": null,
      "outputs": []
    }
  ]
}